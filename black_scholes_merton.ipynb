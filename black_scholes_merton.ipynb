{
 "cells": [
  {
   "cell_type": "markdown",
   "id": "cbc4bcf2",
   "metadata": {},
   "source": [
    "# Implementation of Black–Scholes–Merton-model"
   ]
  },
  {
   "cell_type": "code",
   "execution_count": 1,
   "id": "895cba2e",
   "metadata": {},
   "outputs": [
    {
     "name": "stderr",
     "output_type": "stream",
     "text": [
      "C:\\Users\\kroep\\anaconda3\\envs\\standard_env\\lib\\site-packages\\numpy\\_distributor_init.py:30: UserWarning: loaded more than 1 DLL from .libs:\n",
      "C:\\Users\\kroep\\anaconda3\\envs\\standard_env\\lib\\site-packages\\numpy\\.libs\\libopenblas.GK7GX5KEQ4F6UYO3P26ULGBQYHGQO7J4.gfortran-win_amd64.dll\n",
      "C:\\Users\\kroep\\anaconda3\\envs\\standard_env\\lib\\site-packages\\numpy\\.libs\\libopenblas.PYQHXLVVQ7VESDPUVUADXEVJOBGHJPAY.gfortran-win_amd64.dll\n",
      "C:\\Users\\kroep\\anaconda3\\envs\\standard_env\\lib\\site-packages\\numpy\\.libs\\libopenblas.WCDJNK7YVMPZQ2ME2ZZHJJRJ3JIKNDB7.gfortran-win_amd64.dll\n",
      "  warnings.warn(\"loaded more than 1 DLL from .libs:\"\n"
     ]
    }
   ],
   "source": [
    "import numpy as np\n",
    "import yfinance as yf\n",
    "import pandas as pd\n",
    "import matplotlib.pyplot as plt\n",
    "import scipy.optimize as optimization\n",
    "from scipy.stats import norm\n",
    "from scipy import stats\n",
    "from numpy import log, exp, sqrt"
   ]
  },
  {
   "cell_type": "code",
   "execution_count": 2,
   "id": "e138ed4f",
   "metadata": {},
   "outputs": [],
   "source": [
    "def calculate_call_option_price(S, E, T, rf, sigma):\n",
    "    \"\"\"\n",
    "    Calculate the price of a call option using the Black-Scholes model.\n",
    "    \n",
    "    Args:\n",
    "        S (float): The current price of the underlying asset.\n",
    "        E (float): The strike price of the option.\n",
    "        T (float): The time to expiration of the option, in years.\n",
    "        rf (float): The risk-free interest rate.\n",
    "        sigma (float): The volatility of the underlying asset.\n",
    "\n",
    "    Returns:\n",
    "        The price of the call option.\n",
    "    \"\"\"\n",
    "    # First we have to calculate d1 and d2 parameters\n",
    "    d1 = (log(S / E) + (rf + sigma * sigma / 2.0) * T) / (sigma * sqrt(T))\n",
    "    d2 = d1 - sigma * sqrt(T)\n",
    "\n",
    "    print(\"The d1 and d2 parameters: {}, {}\".format(round(d1,3), round(d2,3)))\n",
    "\n",
    "    # Use the N(x) to calculate the price of the option\n",
    "    return S * stats.norm.cdf(d1) - E * exp(-rf * T) * stats.norm.cdf(d2)\n",
    "\n",
    "def calculate_put_option_price(S, E, T, rf, sigma):\n",
    "    \"\"\"\n",
    "    Calculate the price of a put option using the Black-Scholes model.\n",
    "    \n",
    "    Args:\n",
    "        S (float): The current price of the underlying asset.\n",
    "        E (float): The strike price of the option.\n",
    "        T (float): The time to expiration of the option, in years.\n",
    "        rf (float): The risk-free interest rate.\n",
    "        sigma (float): The volatility of the underlying asset.\n",
    "\n",
    "    Returns:\n",
    "        The price of the put option.\n",
    "    \"\"\"\n",
    "    # First we have to calculate d1 and d2 parameters\n",
    "    d1 = (log(S / E) + (rf + sigma * sigma / 2.0) * T) / (sigma * sqrt(T))\n",
    "    d2 = d1 - sigma * sqrt(T)\n",
    "\n",
    "    print(\"The d1 and d2 parameters: {}, {}\".format(round(d1,3), round(d2,3)))\n",
    "\n",
    "    # Use the N(x) to calculate the price of the option\n",
    "    return -S * stats.norm.cdf(-d1) + E * exp(-rf * T) * stats.norm.cdf(-d2)"
   ]
  },
  {
   "cell_type": "code",
   "execution_count": 3,
   "id": "b2c7ad16",
   "metadata": {},
   "outputs": [
    {
     "name": "stdout",
     "output_type": "stream",
     "text": [
      "The d1 and d2 parameters: 0.35, 0.15\n",
      "Call option price according to Black-Scholes model:  10.451\n",
      "The d1 and d2 parameters: 0.35, 0.15\n",
      "Put option price according to Black-Scholes model:  5.574\n"
     ]
    }
   ],
   "source": [
    "# Underlying stock price at t=0\n",
    "S0 = 100\n",
    "# Strike price\n",
    "E = 100\n",
    "# Time to expiration (in years)\n",
    "T = 1\n",
    "# Risk-free interest rate\n",
    "rf = 0.05\n",
    "# Volatility of the underlying stock\n",
    "sigma = 0.2\n",
    "\n",
    "print(\"Call option price according to Black-Scholes model: \",\n",
    "      round(calculate_call_option_price(S0, E, T, rf, sigma), 3))\n",
    "print(\"Put option price according to Black-Scholes model: \",\n",
    "      round(calculate_put_option_price(S0, E, T, rf, sigma), 3))"
   ]
  },
  {
   "cell_type": "code",
   "execution_count": 4,
   "id": "e6f65235",
   "metadata": {},
   "outputs": [],
   "source": [
    "def get_yf_stock_data(name: str, start: str, end: str):\n",
    "    \"\"\"\n",
    "    Download stock data from Yahoo Finance.\n",
    "\n",
    "    Args:\n",
    "        name (str): The ticker symbol for the stock.\n",
    "        start (str): The starting date for the data.\n",
    "        end (str): The ending date for the data.\n",
    "\n",
    "    Returns:\n",
    "        A pandas Series of closing prices.\n",
    "    \"\"\"\n",
    "    ticker = yf.Ticker(name)\n",
    "    return ticker.history(start=start, end=end)['Close']\n",
    "\n",
    "def plot_stock_data(data, title: str):\n",
    "    \"\"\"\n",
    "    Plot the stock data.\n",
    "\n",
    "    Args:\n",
    "        data (pd.core.series.Series): A pandas Series of closing prices.\n",
    "        title (str): The title for the plot.\n",
    "\n",
    "    Returns:\n",
    "        None. Displays a plot of the data.\n",
    "    \"\"\"\n",
    "    if isinstance(data, pd.core.series.Series):\n",
    "        data.plot(figsize=(10, 5), title=title)\n",
    "    else:\n",
    "        print('Unable to plot! Input must be of type pd.core.series.Series.')\n",
    "\n",
    "def calculate_return(data):\n",
    "    \"\"\"\n",
    "    Calculate the logarithmic return of the stock data.\n",
    "\n",
    "    Args:\n",
    "        data (pd.core.series.Series): A pandas Series of closing prices.\n",
    "\n",
    "    Returns:\n",
    "        A pandas Series of logarithmic returns.\n",
    "    \"\"\"\n",
    "    # NORMALIZATION - to measure all variables in a comparable metric\n",
    "    log_return = np.log(data / data.shift(1))\n",
    "    return log_return[1:]"
   ]
  },
  {
   "cell_type": "code",
   "execution_count": 5,
   "id": "1b8f641f",
   "metadata": {},
   "outputs": [
    {
     "data": {
      "image/png": "[encoded data removed]",
      "text/plain": [
       "<Figure size 720x360 with 1 Axes>"
      ]
     },
     "metadata": {
      "needs_background": "light"
     },
     "output_type": "display_data"
    }
   ],
   "source": [
    "# Define the start and end dates, and the ticker symbol for the stock\n",
    "start = '2018-01-01'\n",
    "end = '2022-01-01'\n",
    "stock_yf_name = 'GOOG'\n",
    "\n",
    "# Download the data and plot it\n",
    "google_data = get_yf_stock_data(stock_yf_name, start=start, end=end)\n",
    "plot_stock_data(google_data, stock_yf_name)"
   ]
  },
  {
   "cell_type": "code",
   "execution_count": 6,
   "id": "e4ac313a",
   "metadata": {},
   "outputs": [
    {
     "name": "stdout",
     "output_type": "stream",
     "text": [
      "mu: -0.091\n",
      "sigma: 1.375\n"
     ]
    },
    {
     "data": {
      "image/png": "[encoded data removed]",
      "text/plain": [
       "<Figure size 432x288 with 1 Axes>"
      ]
     },
     "metadata": {
      "needs_background": "light"
     },
     "output_type": "display_data"
    }
   ],
   "source": [
    "# Convert the pandas Series to a list\n",
    "google_data_list = google_data.to_list()\n",
    "\n",
    "# Compute the differences between successive elements of the list\n",
    "diff_list = [google_data_list[i] - google_data_list[i+1] for i in range(len(google_data_list) - 1)]\n",
    "\n",
    "# Calculate the mean and standard deviation of the differences\n",
    "mu = np.mean(diff_list)\n",
    "sigma = np.sqrt(np.var(diff_list))\n",
    "print(f'mu: {round(mu,3)}\\nsigma: {round(sigma,3)}')\n",
    "\n",
    "# Generate a range of values from 'mu - 3*sigma' to 'mu + 3*sigma'\n",
    "x = np.linspace(mu - 3*sigma, mu + 3*sigma, 100)\n",
    "\n",
    "# Plot the normal distribution with mean 'mu' and standard deviation 'sigma'\n",
    "plt.plot(x, stats.norm.pdf(x, mu, sigma))\n",
    "\n",
    "# Plot a histogram of the differences\n",
    "plt.hist(diff_list, density=True, bins=30)  # density=False would make counts\n",
    "plt.ylabel('Probability')\n",
    "plt.xlabel('Data')\n",
    "\n",
    "# Show the plot\n",
    "plt.show()"
   ]
  },
  {
   "cell_type": "markdown",
   "id": "4384bc87",
   "metadata": {},
   "source": [
    "The code from the following link served as a template for my code. I mostly did it the same and only changed minor things when it comes to the procedure: https://kevinpmooney.blogspot.com/2017/07/calculating-implied-volatility-from.html"
   ]
  },
  {
   "cell_type": "code",
   "execution_count": 7,
   "id": "8880f90a",
   "metadata": {},
   "outputs": [],
   "source": [
    "# Define a function to calculate d1 and d2 values used in Black-Scholes formula\n",
    "def calculate_d_values(sigma, S, K, r, t):\n",
    "    \"\"\"\n",
    "    Args:\n",
    "        sigma: implied volatility\n",
    "        S: spot price of the underlying asset\n",
    "        K: strike price of the option\n",
    "        r: risk-free interest rate\n",
    "        t: time to expiration expressed in years\n",
    "    Returns:\n",
    "        Tuple containing values of d1 and d2.\n",
    "    \"\"\"\n",
    "    d1 = (log(S/K) + (r + sigma**2/2) * t) / (sigma * sqrt(t))\n",
    "    d2 = d1 - sigma * sqrt(t)\n",
    "    return d1, d2\n",
    "\n",
    "# Define a function to calculate the call option price\n",
    "def calculate_call_price(sigma, S, K, r, t, d1, d2):\n",
    "    \"\"\"\n",
    "    Args:\n",
    "        sigma: implied volatility\n",
    "        S: spot price of the underlying asset\n",
    "        K: strike price of the option\n",
    "        r: risk-free interest rate\n",
    "        t: time to expiration expressed in years\n",
    "        d1, d2: Intermediate variables in the Black-Scholes formula\n",
    "    Returns:\n",
    "        Call option price.\n",
    "    \"\"\"\n",
    "    C = norm.cdf(d1) * S - norm.cdf(d2) * K * exp(-r * t)\n",
    "    return C"
   ]
  },
  {
   "cell_type": "code",
   "execution_count": 8,
   "id": "63618f5c",
   "metadata": {},
   "outputs": [
    {
     "name": "stdout",
     "output_type": "stream",
     "text": [
      "Implied volatility =  0.36886\n",
      "Code required 3 iterations.\n"
     ]
    }
   ],
   "source": [
    "# Initialize the option and market parameters\n",
    "S = 100.0  # Spot price\n",
    "K = 105.0  # Strike price\n",
    "r = 0.01  # Risk-free interest rate\n",
    "t = 30.0/365  # Time to expiration (years)\n",
    "C0 = 2.30  # Actual market price of the option\n",
    "\n",
    "# Start with an initial guess for the implied volatility\n",
    "vol = 0.5\n",
    "\n",
    "epsilon = 1.0  # Variable to check stopping conditions\n",
    "abstol = 1e-4  # Stop calculation when abs(epsilon) < this number\n",
    "\n",
    "i = 0   # Variable to count number of iterations\n",
    "max_iter = 1e3  # Max number of iterations before aborting\n",
    "\n",
    "# Iteratively compute the implied volatility\n",
    "while epsilon > abstol:\n",
    "    if i > max_iter:\n",
    "        # Avoid infinite loop, break if max iterations reached\n",
    "        break\n",
    "\n",
    "    i += 1\n",
    "    d1, d2 = calculate_d_values(vol, S, K, r, t)\n",
    "    function_value = calculate_call_price(vol, S, K, r, t, d1, d2) - C0\n",
    "    vega = S * norm.pdf(d1) * sqrt(t)  # Vega is the derivative of the option price w.r.t. volatility\n",
    "    vol -= function_value / vega\n",
    "    epsilon = abs(function_value)\n",
    "\n",
    "print('Implied volatility = ', round(vol, 5))\n",
    "print('Code required', i, 'iterations.')"
   ]
  }
 ],
 "metadata": {
  "kernelspec": {
   "display_name": "Python [conda env:standard_env] *",
   "language": "python",
   "name": "conda-env-standard_env-py"
  },
  "language_info": {
   "codemirror_mode": {
    "name": "ipython",
    "version": 3
   },
   "file_extension": ".py",
   "mimetype": "text/x-python",
   "name": "python",
   "nbconvert_exporter": "python",
   "pygments_lexer": "ipython3",
   "version": "3.8.13"
  }
 },
 "nbformat": 4,
 "nbformat_minor": 5
}
